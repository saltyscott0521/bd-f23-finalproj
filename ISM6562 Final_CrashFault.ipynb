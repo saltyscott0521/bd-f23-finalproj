{
 "cells": [
  {
   "cell_type": "markdown",
   "metadata": {},
   "source": [
    "# ISM6562 Final\n",
    "# Crashes\n",
    "## https://catalog.data.gov/dataset/crash-reporting-drivers-data\n"
   ]
  },
  {
   "cell_type": "markdown",
   "metadata": {},
   "source": [
    "## Start Spark Session"
   ]
  },
  {
   "cell_type": "code",
   "execution_count": 1,
   "metadata": {
    "tags": []
   },
   "outputs": [
    {
     "name": "stderr",
     "output_type": "stream",
     "text": [
      "23/11/09 00:03:05 WARN Utils: Your hostname, localhost.localdomain resolves to a loopback address: 127.0.0.1; using 10.21.12.4 instead (on interface eth0)\n",
      "23/11/09 00:03:05 WARN Utils: Set SPARK_LOCAL_IP if you need to bind to another address\n",
      "Setting default log level to \"WARN\".\n",
      "To adjust logging level use sc.setLogLevel(newLevel). For SparkR, use setLogLevel(newLevel).\n",
      "23/11/09 00:03:05 WARN NativeCodeLoader: Unable to load native-hadoop library for your platform... using builtin-java classes where applicable\n"
     ]
    },
    {
     "name": "stdout",
     "output_type": "stream",
     "text": [
      "Spark Session WebUI Port: 4040\n"
     ]
    }
   ],
   "source": [
    "from pyspark.sql import SparkSession;\n",
    "from pyspark.context import SparkContext;\n",
    "\n",
    "# warehouse_location points to the default location for managed databases and tables\n",
    "from os.path import abspath\n",
    "warehouse_location = abspath('spark-warehouse')\n",
    "\n",
    "spark = SparkSession \\\n",
    "    . builder \\\n",
    "    .master(\"local[*]\") \\\n",
    "    .appName(\"Final\") \\\n",
    "    .config(\"spark.sql.warehouse.dir\", warehouse_location) \\\n",
    "    .enableHiveSupport() \\\n",
    "    .getOrCreate()\n",
    "\n",
    "sc =spark.sparkContext\n",
    "sc.setLogLevel(\"ERROR\") # only display errors (not warnings)\n",
    "\n",
    "# note: If you have multiple spark sessions running (like from a previous notebook you've run), \n",
    "# this spark session webUI will be on a different port than the default (4040). One way to \n",
    "# identify this part is with the following line. If there was only one spark session running, \n",
    "# this will be 4040. If it's higher, it means there are still other spark sesssions still running.\n",
    "spark_session_port = spark.sparkContext.uiWebUrl.split(\":\")[-1]\n",
    "print(\"Spark Session WebUI Port: \" + spark_session_port)\n",
    "\n"
   ]
  },
  {
   "cell_type": "code",
   "execution_count": 2,
   "metadata": {
    "tags": []
   },
   "outputs": [
    {
     "data": {
      "text/html": [
       "\n",
       "            <div>\n",
       "                <p><b>SparkSession - hive</b></p>\n",
       "                \n",
       "        <div>\n",
       "            <p><b>SparkContext</b></p>\n",
       "\n",
       "            <p><a href=\"http://linux:4040\">Spark UI</a></p>\n",
       "\n",
       "            <dl>\n",
       "              <dt>Version</dt>\n",
       "                <dd><code>v3.5.0</code></dd>\n",
       "              <dt>Master</dt>\n",
       "                <dd><code>local[*]</code></dd>\n",
       "              <dt>AppName</dt>\n",
       "                <dd><code>Final</code></dd>\n",
       "            </dl>\n",
       "        </div>\n",
       "        \n",
       "            </div>\n",
       "        "
      ],
      "text/plain": [
       "<pyspark.sql.session.SparkSession at 0x7ff57c174ad0>"
      ]
     },
     "execution_count": 2,
     "metadata": {},
     "output_type": "execute_result"
    }
   ],
   "source": [
    "spark"
   ]
  },
  {
   "cell_type": "markdown",
   "metadata": {},
   "source": [
    "## Load Crash Data"
   ]
  },
  {
   "cell_type": "code",
   "execution_count": 16,
   "metadata": {},
   "outputs": [],
   "source": [
    "import pandas as pd\n",
    "import matplotlib.pyplot as plt\n",
    "from pyspark.sql.functions import col"
   ]
  },
  {
   "cell_type": "markdown",
   "metadata": {},
   "source": [
    "## Use spark Sql to query relevant  from the raw table load into a formatted dataframe with some massaging on the columns"
   ]
  },
  {
   "cell_type": "code",
   "execution_count": 17,
   "metadata": {},
   "outputs": [
    {
     "name": "stdout",
     "output_type": "stream",
     "text": [
      "+-------------+-----+-------+-----------------+--------------+---------------+\n",
      "|Report_Number|Fault|Weather|Surface_Condition|         Light|Substance_Abuse|\n",
      "+-------------+-----+-------+-----------------+--------------+---------------+\n",
      "|  MCP2874000K|    0|  SLEET|              ICE|DARK LIGHTS ON|            NaN|\n",
      "|  MCP3228001Y|    1|  CLEAR|              DRY|      DAYLIGHT|           NONE|\n",
      "|  MCP3003004G|    0|RAINING|              WET|DARK LIGHTS ON|           NONE|\n",
      "|  MCP2195004Q|    0|RAINING|              WET|      DAYLIGHT|           NONE|\n",
      "|  MCP1015001M|    1|RAINING|              WET|      DAYLIGHT|           NONE|\n",
      "+-------------+-----+-------+-----------------+--------------+---------------+\n",
      "only showing top 5 rows\n",
      "\n"
     ]
    }
   ],
   "source": [
    "data = spark.sql(\"SELECT Report_Number\\\n",
    "               , CASE WHEN Driver_At_Fault = 'Yes' THEN 1 ELSE 0 END as Fault\\\n",
    "               , Weather\\\n",
    "               , Surface_Condition\\\n",
    "               , Light\\\n",
    "               , CASE WHEN Driver_Substance_Abuse in ('UNKNOWN','N/A','NONE DETECTED') THEN 'NONE' ELSE Driver_Substance_Abuse END as Substance_Abuse\\\n",
    "               FROM crashes WHERE Driver_At_Fault != 'Unknown'\")\n",
    "data = data.dropna()\n",
    "data.show(5)"
   ]
  },
  {
   "cell_type": "code",
   "execution_count": 18,
   "metadata": {},
   "outputs": [
    {
     "data": {
      "image/png": "[encoded data removed]",
      "text/plain": [
       "<Figure size 640x480 with 1 Axes>"
      ]
     },
     "metadata": {},
     "output_type": "display_data"
    }
   ],
   "source": [
    "df2 = data.toPandas()\n",
    "values, bins, bars = plt.hist(df2['Fault'], bins=[0,0.5,1.5])\n",
    "plt.xlabel(\"Fault Y/N\")\n",
    "plt.ylabel(\"# of Accidents\")\n",
    "plt.xticks([0, 1])\n",
    "plt.bar_label(bars)\n",
    "plt.show()"
   ]
  },
  {
   "cell_type": "code",
   "execution_count": 19,
   "metadata": {
    "tags": []
   },
   "outputs": [],
   "source": [
    "train_data,test_data = data.randomSplit([0.75,0.25])"
   ]
  },
  {
   "cell_type": "markdown",
   "metadata": {},
   "source": [
    "## Logistic Regression"
   ]
  },
  {
   "cell_type": "code",
   "execution_count": 20,
   "metadata": {},
   "outputs": [],
   "source": [
    "# Import libraries\n",
    "from pyspark.ml.classification import LogisticRegression, LinearSVC\n",
    "from pyspark.ml.feature import VectorAssembler, StringIndexer, OneHotEncoder, StandardScaler\n",
    "from pyspark.ml import Pipeline"
   ]
  },
  {
   "cell_type": "code",
   "execution_count": 21,
   "metadata": {},
   "outputs": [],
   "source": [
    "Weather_indexer                = StringIndexer(inputCol='Weather', outputCol='Weather_index', handleInvalid='keep')\n",
    "Surface_Condition_indexer      = StringIndexer(inputCol='Surface_Condition', outputCol='Surface_Condition_index', handleInvalid='keep')\n",
    "Light_indexer                  = StringIndexer(inputCol='Light', outputCol='Light_index', handleInvalid='keep')\n",
    "Substance_Abuse_indexer        = StringIndexer(inputCol='Substance_Abuse', outputCol='Substance_Abuse_index', handleInvalid='keep')"
   ]
  },
  {
   "cell_type": "code",
   "execution_count": 22,
   "metadata": {
    "tags": []
   },
   "outputs": [],
   "source": [
    "data_encoder = OneHotEncoder(\n",
    "    inputCols=[\n",
    "        'Weather_index',\n",
    "        'Surface_Condition_index',\n",
    "        'Light_index',\n",
    "        'Substance_Abuse_index'\n",
    "    ],\n",
    "     outputCols=[\n",
    "        'Weather_vector',\n",
    "        'Surface_Condition_vector',\n",
    "        'Light_vector',\n",
    "        'Substance_Abuse_vector'\n",
    "     ],\n",
    "    handleInvalid='keep'\n",
    ")"
   ]
  },
  {
   "cell_type": "code",
   "execution_count": 23,
   "metadata": {
    "tags": []
   },
   "outputs": [],
   "source": [
    "assembler = VectorAssembler(\n",
    "    inputCols=[\n",
    "        'Weather_vector',\n",
    "        'Surface_Condition_vector',\n",
    "        'Light_vector',\n",
    "        'Substance_Abuse_vector'\n",
    "    ],\n",
    "    outputCol = \"features\"\n",
    ")"
   ]
  },
  {
   "cell_type": "code",
   "execution_count": 24,
   "metadata": {
    "tags": []
   },
   "outputs": [],
   "source": [
    "logit_model = LogisticRegression(labelCol='Fault')"
   ]
  },
  {
   "cell_type": "code",
   "execution_count": 25,
   "metadata": {
    "tags": []
   },
   "outputs": [],
   "source": [
    "logit_pipe = Pipeline(\n",
    "    stages=[\n",
    "        Weather_indexer,\n",
    "        Surface_Condition_indexer,\n",
    "        Light_indexer, \n",
    "        Substance_Abuse_indexer, \n",
    "        data_encoder,\n",
    "        assembler,\n",
    "        logit_model\n",
    "    ]\n",
    ")"
   ]
  },
  {
   "cell_type": "code",
   "execution_count": 26,
   "metadata": {
    "tags": []
   },
   "outputs": [
    {
     "name": "stderr",
     "output_type": "stream",
     "text": [
      "                                                                                \r"
     ]
    }
   ],
   "source": [
    "fit_model = logit_pipe.fit(train_data)\n",
    "logit_results = fit_model.transform(test_data)"
   ]
  },
  {
   "cell_type": "code",
   "execution_count": 27,
   "metadata": {
    "tags": []
   },
   "outputs": [
    {
     "name": "stdout",
     "output_type": "stream",
     "text": [
      "+-----+----------+\n",
      "|Fault|prediction|\n",
      "+-----+----------+\n",
      "|    0|       1.0|\n",
      "|    0|       1.0|\n",
      "|    1|       1.0|\n",
      "|    0|       0.0|\n",
      "|    0|       1.0|\n",
      "|    0|       1.0|\n",
      "|    1|       1.0|\n",
      "|    1|       1.0|\n",
      "|    1|       1.0|\n",
      "|    1|       1.0|\n",
      "|    1|       1.0|\n",
      "|    0|       1.0|\n",
      "|    0|       1.0|\n",
      "|    1|       1.0|\n",
      "|    1|       1.0|\n",
      "|    1|       1.0|\n",
      "|    1|       1.0|\n",
      "|    1|       1.0|\n",
      "|    1|       1.0|\n",
      "|    0|       1.0|\n",
      "+-----+----------+\n",
      "only showing top 20 rows\n",
      "\n"
     ]
    }
   ],
   "source": [
    "logit_results.select(['Fault','prediction']).show()"
   ]
  },
  {
   "cell_type": "markdown",
   "metadata": {},
   "source": [
    "## Evaluate Logistic Regression"
   ]
  },
  {
   "cell_type": "code",
   "execution_count": 28,
   "metadata": {
    "tags": []
   },
   "outputs": [
    {
     "name": "stdout",
     "output_type": "stream",
     "text": [
      "Precited Non Fault: 3268\n",
      "Precited Fault: 21065\n"
     ]
    }
   ],
   "source": [
    "nf = logit_results.filter(col(\"prediction\")==0).count()\n",
    "f = logit_results.filter(col(\"prediction\")==1).count()\n",
    "\n",
    "print(f\"Precited Non Fault: {nf}\")\n",
    "print(f\"Precited Fault: {f}\")"
   ]
  },
  {
   "cell_type": "code",
   "execution_count": 29,
   "metadata": {
    "tags": []
   },
   "outputs": [
    {
     "name": "stdout",
     "output_type": "stream",
     "text": [
      "Mean Absolute Error: 0.4464718694776641\n"
     ]
    }
   ],
   "source": [
    "from pyspark.ml.evaluation import RegressionEvaluator\n",
    "MAE_evaluator = RegressionEvaluator(predictionCol=\"prediction\",labelCol=\"Fault\", metricName=\"mae\")\n",
    "mae = MAE_evaluator.evaluate(logit_results)\n",
    "print(f\"Mean Absolute Error: {mae}\")\n"
   ]
  },
  {
   "cell_type": "code",
   "execution_count": 30,
   "metadata": {
    "tags": []
   },
   "outputs": [
    {
     "name": "stdout",
     "output_type": "stream",
     "text": [
      "Area Under Curve: 0.5159907802496241\n",
      "Area Under PR Curve: 0.5601450143042579\n"
     ]
    }
   ],
   "source": [
    "from pyspark.ml.evaluation import BinaryClassificationEvaluator\n",
    "\n",
    "AUC_evaluator = BinaryClassificationEvaluator(rawPredictionCol='prediction',labelCol='Fault',metricName='areaUnderROC')\n",
    "AUC = AUC_evaluator.evaluate(logit_results)\n",
    "\n",
    "AUPR_evaluator = BinaryClassificationEvaluator(rawPredictionCol='prediction',labelCol='Fault',metricName='areaUnderPR')\n",
    "AUPR = AUPR_evaluator.evaluate(logit_results)\n",
    "\n",
    "print(f\"Area Under Curve: {AUC}\")\n",
    "print(f\"Area Under PR Curve: {AUPR}\")"
   ]
  },
  {
   "cell_type": "code",
   "execution_count": 31,
   "metadata": {
    "tags": []
   },
   "outputs": [
    {
     "name": "stdout",
     "output_type": "stream",
     "text": [
      "0.553528130522336\n"
     ]
    }
   ],
   "source": [
    "from pyspark.ml.evaluation import MulticlassClassificationEvaluator\n",
    "ACC_evaluator = MulticlassClassificationEvaluator(labelCol=\"Fault\",predictionCol=\"prediction\",metricName=\"accuracy\")\n",
    "Accuracy = ACC_evaluator.evaluate(logit_results)\n",
    "print(Accuracy)"
   ]
  },
  {
   "cell_type": "code",
   "execution_count": 32,
   "metadata": {
    "tags": []
   },
   "outputs": [
    {
     "name": "stdout",
     "output_type": "stream",
     "text": [
      "[[ 1658  9254]\n",
      " [ 1610 11811]]\n"
     ]
    }
   ],
   "source": [
    "from sklearn.metrics import confusion_matrix\n",
    "\n",
    "y_true = logit_results.select(\"Fault\").toPandas()\n",
    " \n",
    "y_pred = logit_results.select(\"prediction\").toPandas()\n",
    " \n",
    "cnf_matrix = confusion_matrix(y_true, y_pred)\n",
    "\n",
    "print(cnf_matrix)\n",
    "\n"
   ]
  },
  {
   "cell_type": "code",
   "execution_count": 33,
   "metadata": {
    "tags": []
   },
   "outputs": [
    {
     "data": {
      "image/png": "[encoded data removed]",
      "text/plain": [
       "<Figure size 640x480 with 2 Axes>"
      ]
     },
     "metadata": {},
     "output_type": "display_data"
    }
   ],
   "source": [
    "from sklearn.metrics import ConfusionMatrixDisplay\n",
    "\n",
    " \n",
    "color = 'white'\n",
    "disp = ConfusionMatrixDisplay(confusion_matrix=cnf_matrix, display_labels = ['Non-Fault', 'Fault'])\n",
    "disp.plot()\n",
    "plt.show()"
   ]
  },
  {
   "cell_type": "code",
   "execution_count": 34,
   "metadata": {
    "tags": []
   },
   "outputs": [
    {
     "name": "stdout",
     "output_type": "stream",
     "text": [
      "Accuracy: 0.55\n",
      "Precision: 0.56\n",
      "Recall: 0.88\n",
      "F1 Score: 0.68\n"
     ]
    }
   ],
   "source": [
    "\n",
    "\n",
    "tn = cnf_matrix[0][0]\n",
    "fp = cnf_matrix[0][1]\n",
    "fn = cnf_matrix[1][0]\n",
    "tp = cnf_matrix[1][1]\n",
    "\n",
    "accuracy = (tp+tn)/(tp+tn+fp+fn)\n",
    "precision = tp/(tp+fp)\n",
    "recall = tp/(tp+fn)\n",
    "f1_score = 2*(precision*recall)/(precision+recall)\n",
    "\n",
    "\n",
    "\n",
    "print(f\"Accuracy: {accuracy:.2f}\")\n",
    "print(f\"Precision: {precision:.2f}\")\n",
    "print(f\"Recall: {recall:.2f}\")\n",
    "print(f\"F1 Score: {f1_score:.2f}\")\n",
    "\n"
   ]
  },
  {
   "cell_type": "markdown",
   "metadata": {},
   "source": [
    "## SVC"
   ]
  },
  {
   "cell_type": "code",
   "execution_count": 35,
   "metadata": {
    "tags": []
   },
   "outputs": [],
   "source": [
    "assembler = VectorAssembler(\n",
    "    inputCols=[\n",
    "        'Weather_index',\n",
    "        'Surface_Condition_index',\n",
    "        'Light_index',\n",
    "        'Substance_Abuse_index'\n",
    "    ],\n",
    "    outputCol = \"unscaled_features\"\n",
    ")"
   ]
  },
  {
   "cell_type": "code",
   "execution_count": 36,
   "metadata": {
    "tags": []
   },
   "outputs": [],
   "source": [
    "scaler = StandardScaler(inputCol= \"unscaled_features\", outputCol = \"features\")"
   ]
  },
  {
   "cell_type": "code",
   "execution_count": 37,
   "metadata": {
    "tags": []
   },
   "outputs": [],
   "source": [
    "svc_model = LinearSVC(labelCol='Fault')"
   ]
  },
  {
   "cell_type": "code",
   "execution_count": 38,
   "metadata": {
    "tags": []
   },
   "outputs": [],
   "source": [
    "svc_pipe = Pipeline(\n",
    "    stages=[\n",
    "        Weather_indexer,\n",
    "        Surface_Condition_indexer,\n",
    "        Light_indexer, \n",
    "        Substance_Abuse_indexer, \n",
    "        assembler,\n",
    "        scaler,\n",
    "        svc_model\n",
    "    ]\n",
    ")"
   ]
  },
  {
   "cell_type": "code",
   "execution_count": 39,
   "metadata": {
    "tags": []
   },
   "outputs": [],
   "source": [
    "svc_fit_model = svc_pipe.fit(train_data)"
   ]
  },
  {
   "cell_type": "code",
   "execution_count": 40,
   "metadata": {
    "tags": []
   },
   "outputs": [
    {
     "name": "stdout",
     "output_type": "stream",
     "text": [
      "+-----+----------+\n",
      "|Fault|prediction|\n",
      "+-----+----------+\n",
      "|    0|       1.0|\n",
      "|    0|       1.0|\n",
      "|    1|       1.0|\n",
      "|    0|       1.0|\n",
      "|    0|       1.0|\n",
      "|    0|       1.0|\n",
      "|    1|       1.0|\n",
      "|    1|       1.0|\n",
      "|    1|       1.0|\n",
      "|    1|       1.0|\n",
      "|    1|       1.0|\n",
      "|    0|       1.0|\n",
      "|    0|       1.0|\n",
      "|    1|       1.0|\n",
      "|    1|       1.0|\n",
      "|    1|       1.0|\n",
      "|    1|       1.0|\n",
      "|    1|       1.0|\n",
      "|    1|       1.0|\n",
      "|    0|       1.0|\n",
      "+-----+----------+\n",
      "only showing top 20 rows\n",
      "\n"
     ]
    }
   ],
   "source": [
    "svc_results = svc_fit_model.transform(test_data)\n",
    "svc_results.select(['Fault','prediction']).show()"
   ]
  },
  {
   "cell_type": "code",
   "execution_count": 41,
   "metadata": {
    "tags": []
   },
   "outputs": [
    {
     "name": "stdout",
     "output_type": "stream",
     "text": [
      "Precited Non Fault: 0\n",
      "Precited Fault: 24333\n"
     ]
    }
   ],
   "source": [
    "from pyspark.sql.functions import col\n",
    "nf = svc_results.filter(col(\"prediction\")==0).count()\n",
    "f = svc_results.filter(col(\"prediction\")==1).count()\n",
    "\n",
    "print(f\"Precited Non Fault: {nf}\")\n",
    "print(f\"Precited Fault: {f}\")"
   ]
  },
  {
   "cell_type": "code",
   "execution_count": 42,
   "metadata": {
    "tags": []
   },
   "outputs": [
    {
     "name": "stdout",
     "output_type": "stream",
     "text": [
      "Mean Absolute Error: 0.44844449923971563\n"
     ]
    }
   ],
   "source": [
    "from pyspark.ml.evaluation import RegressionEvaluator\n",
    "MAE_evaluator = RegressionEvaluator(predictionCol=\"prediction\",labelCol=\"Fault\", metricName=\"mae\")\n",
    "mae = MAE_evaluator.evaluate(svc_results)\n",
    "print(f\"Mean Absolute Error: {mae}\")\n"
   ]
  },
  {
   "cell_type": "code",
   "execution_count": 43,
   "metadata": {
    "tags": []
   },
   "outputs": [
    {
     "name": "stdout",
     "output_type": "stream",
     "text": [
      "Area Under Curve: 0.5\n",
      "Area Under PR Curve: 0.5515555007602844\n"
     ]
    }
   ],
   "source": [
    "from pyspark.ml.evaluation import BinaryClassificationEvaluator\n",
    "\n",
    "AUC_evaluator = BinaryClassificationEvaluator(rawPredictionCol='prediction',labelCol='Fault',metricName='areaUnderROC')\n",
    "AUC = AUC_evaluator.evaluate(svc_results)\n",
    "\n",
    "AUPR_evaluator = BinaryClassificationEvaluator(rawPredictionCol='prediction',labelCol='Fault',metricName='areaUnderPR')\n",
    "AUPR = AUPR_evaluator.evaluate(svc_results)\n",
    "\n",
    "print(f\"Area Under Curve: {AUC}\")\n",
    "print(f\"Area Under PR Curve: {AUPR}\")"
   ]
  },
  {
   "cell_type": "code",
   "execution_count": 44,
   "metadata": {
    "tags": []
   },
   "outputs": [
    {
     "name": "stdout",
     "output_type": "stream",
     "text": [
      "0.5515555007602844\n"
     ]
    }
   ],
   "source": [
    "from pyspark.ml.evaluation import MulticlassClassificationEvaluator\n",
    "ACC_evaluator = MulticlassClassificationEvaluator(labelCol=\"Fault\",predictionCol=\"prediction\",metricName=\"accuracy\")\n",
    "Accuracy = ACC_evaluator.evaluate(svc_results)\n",
    "print(Accuracy)"
   ]
  },
  {
   "cell_type": "code",
   "execution_count": 45,
   "metadata": {
    "tags": []
   },
   "outputs": [
    {
     "name": "stdout",
     "output_type": "stream",
     "text": [
      "[[    0 10912]\n",
      " [    0 13421]]\n"
     ]
    }
   ],
   "source": [
    "from sklearn.metrics import confusion_matrix\n",
    "\n",
    "y_true = svc_results.select(\"Fault\").toPandas()\n",
    " \n",
    "y_pred = svc_results.select(\"prediction\").toPandas()\n",
    " \n",
    "cnf_matrix = confusion_matrix(y_true, y_pred)\n",
    "\n",
    "print(cnf_matrix)\n",
    "\n"
   ]
  },
  {
   "cell_type": "code",
   "execution_count": 46,
   "metadata": {
    "tags": []
   },
   "outputs": [
    {
     "data": {
      "image/png": "[encoded data removed]",
      "text/plain": [
       "<Figure size 640x480 with 2 Axes>"
      ]
     },
     "metadata": {},
     "output_type": "display_data"
    }
   ],
   "source": [
    "color = 'white'\n",
    "disp = ConfusionMatrixDisplay(confusion_matrix=cnf_matrix, display_labels = ['Non-Fault', 'Fault'])\n",
    "disp.plot()\n",
    "plt.show()"
   ]
  },
  {
   "cell_type": "code",
   "execution_count": 47,
   "metadata": {
    "tags": []
   },
   "outputs": [
    {
     "name": "stdout",
     "output_type": "stream",
     "text": [
      "Accuracy: 0.55\n",
      "Precision: 0.55\n",
      "Recall: 1.00\n",
      "F1 Score: 0.71\n"
     ]
    }
   ],
   "source": [
    "\n",
    "\n",
    "tn = cnf_matrix[0][0]\n",
    "fp = cnf_matrix[0][1]\n",
    "fn = cnf_matrix[1][0]\n",
    "tp = cnf_matrix[1][1]\n",
    "\n",
    "accuracy = (tp+tn)/(tp+tn+fp+fn)\n",
    "precision = tp/(tp+fp)\n",
    "recall = tp/(tp+fn)\n",
    "f1_score = 2*(precision*recall)/(precision+recall)\n",
    "\n",
    "\n",
    "\n",
    "print(f\"Accuracy: {accuracy:.2f}\")\n",
    "print(f\"Precision: {precision:.2f}\")\n",
    "print(f\"Recall: {recall:.2f}\")\n",
    "print(f\"F1 Score: {f1_score:.2f}\")\n",
    "\n"
   ]
  },
  {
   "cell_type": "code",
   "execution_count": null,
   "metadata": {},
   "outputs": [],
   "source": []
  }
 ],
 "metadata": {
  "kernelspec": {
   "display_name": "Python 3 (ipykernel)",
   "language": "python",
   "name": "python3"
  },
  "language_info": {
   "codemirror_mode": {
    "name": "ipython",
    "version": 3
   },
   "file_extension": ".py",
   "mimetype": "text/x-python",
   "name": "python",
   "nbconvert_exporter": "python",
   "pygments_lexer": "ipython3",
   "version": "3.11.4"
  }
 },
 "nbformat": 4,
 "nbformat_minor": 4
}
