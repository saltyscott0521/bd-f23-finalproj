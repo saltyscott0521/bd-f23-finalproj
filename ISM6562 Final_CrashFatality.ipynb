{
 "cells": [
  {
   "cell_type": "markdown",
   "metadata": {},
   "source": [
    "# ISM6562 Final\n",
    "# Crashes\n",
    "## https://catalog.data.gov/dataset/crash-reporting-drivers-data\n"
   ]
  },
  {
   "cell_type": "markdown",
   "metadata": {},
   "source": [
    "## Start Spark Session"
   ]
  },
  {
   "cell_type": "code",
   "execution_count": 1,
   "metadata": {
    "tags": []
   },
   "outputs": [
    {
     "name": "stderr",
     "output_type": "stream",
     "text": [
      "23/11/08 19:12:43 WARN Utils: Your hostname, localhost.localdomain resolves to a loopback address: 127.0.0.1; using 10.21.12.4 instead (on interface eth0)\n",
      "23/11/08 19:12:43 WARN Utils: Set SPARK_LOCAL_IP if you need to bind to another address\n",
      "Setting default log level to \"WARN\".\n",
      "To adjust logging level use sc.setLogLevel(newLevel). For SparkR, use setLogLevel(newLevel).\n",
      "23/11/08 19:12:45 WARN NativeCodeLoader: Unable to load native-hadoop library for your platform... using builtin-java classes where applicable\n"
     ]
    },
    {
     "name": "stdout",
     "output_type": "stream",
     "text": [
      "Spark Session WebUI Port: 4040\n"
     ]
    }
   ],
   "source": [
    "from pyspark.sql import SparkSession;\n",
    "from pyspark.context import SparkContext;\n",
    "\n",
    "# warehouse_location points to the default location for managed databases and tables\n",
    "from os.path import abspath\n",
    "warehouse_location = abspath('spark-warehouse')\n",
    "\n",
    "spark = SparkSession \\\n",
    "    . builder \\\n",
    "    .master(\"local[*]\") \\\n",
    "    .appName(\"Final\") \\\n",
    "    .config(\"spark.sql.warehouse.dir\", warehouse_location) \\\n",
    "    .enableHiveSupport() \\\n",
    "    .getOrCreate()\n",
    "\n",
    "sc =spark.sparkContext\n",
    "sc.setLogLevel(\"ERROR\") # only display errors (not warnings)\n",
    "\n",
    "# note: If you have multiple spark sessions running (like from a previous notebook you've run), \n",
    "# this spark session webUI will be on a different port than the default (4040). One way to \n",
    "# identify this part is with the following line. If there was only one spark session running, \n",
    "# this will be 4040. If it's higher, it means there are still other spark sesssions still running.\n",
    "spark_session_port = spark.sparkContext.uiWebUrl.split(\":\")[-1]\n",
    "print(\"Spark Session WebUI Port: \" + spark_session_port)\n",
    "\n"
   ]
  },
  {
   "cell_type": "code",
   "execution_count": 2,
   "metadata": {
    "tags": []
   },
   "outputs": [
    {
     "data": {
      "text/html": [
       "\n",
       "            <div>\n",
       "                <p><b>SparkSession - hive</b></p>\n",
       "                \n",
       "        <div>\n",
       "            <p><b>SparkContext</b></p>\n",
       "\n",
       "            <p><a href=\"http://linux:4040\">Spark UI</a></p>\n",
       "\n",
       "            <dl>\n",
       "              <dt>Version</dt>\n",
       "                <dd><code>v3.5.0</code></dd>\n",
       "              <dt>Master</dt>\n",
       "                <dd><code>local[*]</code></dd>\n",
       "              <dt>AppName</dt>\n",
       "                <dd><code>Final</code></dd>\n",
       "            </dl>\n",
       "        </div>\n",
       "        \n",
       "            </div>\n",
       "        "
      ],
      "text/plain": [
       "<pyspark.sql.session.SparkSession at 0x7fccf4038f50>"
      ]
     },
     "execution_count": 2,
     "metadata": {},
     "output_type": "execute_result"
    }
   ],
   "source": [
    "spark"
   ]
  },
  {
   "cell_type": "markdown",
   "metadata": {},
   "source": [
    "## Load Crash Data"
   ]
  },
  {
   "cell_type": "code",
   "execution_count": 218,
   "metadata": {},
   "outputs": [],
   "source": [
    "import pandas as pd\n",
    "import matplotlib.pyplot as plt\n",
    "from pyspark.sql.functions import col"
   ]
  },
  {
   "cell_type": "code",
   "execution_count": 219,
   "metadata": {},
   "outputs": [
    {
     "name": "stderr",
     "output_type": "stream",
     "text": [
      "/tmp/ipykernel_7051/4104958132.py:1: DtypeWarning: Columns (1) have mixed types. Specify dtype option on import or set low_memory=False.\n",
      "  df = pd.read_csv('data/Crash_Data.csv')\n"
     ]
    },
    {
     "data": {
      "text/html": [
       "<div>\n",
       "<style scoped>\n",
       "    .dataframe tbody tr th:only-of-type {\n",
       "        vertical-align: middle;\n",
       "    }\n",
       "\n",
       "    .dataframe tbody tr th {\n",
       "        vertical-align: top;\n",
       "    }\n",
       "\n",
       "    .dataframe thead th {\n",
       "        text-align: right;\n",
       "    }\n",
       "</style>\n",
       "<table border=\"1\" class=\"dataframe\">\n",
       "  <thead>\n",
       "    <tr style=\"text-align: right;\">\n",
       "      <th></th>\n",
       "      <th>Report_Number</th>\n",
       "      <th>Local_Case_Number</th>\n",
       "      <th>Agency_Name</th>\n",
       "      <th>ACRS_Report_Type</th>\n",
       "      <th>Crash_Date/Time</th>\n",
       "      <th>Route_Type</th>\n",
       "      <th>Road_Name</th>\n",
       "      <th>Cross-Street_Type</th>\n",
       "      <th>Cross-Street_Name</th>\n",
       "      <th>Off-Road_Description</th>\n",
       "      <th>...</th>\n",
       "      <th>Speed_Limit</th>\n",
       "      <th>Driverless_Vehicle</th>\n",
       "      <th>Parked_Vehicle</th>\n",
       "      <th>Vehicle_Year</th>\n",
       "      <th>Vehicle_Make</th>\n",
       "      <th>Vehicle_Model</th>\n",
       "      <th>Equipment_Problems</th>\n",
       "      <th>Latitude</th>\n",
       "      <th>Longitude</th>\n",
       "      <th>Location</th>\n",
       "    </tr>\n",
       "  </thead>\n",
       "  <tbody>\n",
       "    <tr>\n",
       "      <th>0</th>\n",
       "      <td>MCP3040003N</td>\n",
       "      <td>190026050</td>\n",
       "      <td>Montgomery County Police</td>\n",
       "      <td>Property Damage Crash</td>\n",
       "      <td>05/31/2019 03:00:00 PM</td>\n",
       "      <td>NaN</td>\n",
       "      <td>NaN</td>\n",
       "      <td>NaN</td>\n",
       "      <td>NaN</td>\n",
       "      <td>PARKING LOT OF 3215 SPARTAN RD</td>\n",
       "      <td>...</td>\n",
       "      <td>15</td>\n",
       "      <td>No</td>\n",
       "      <td>No</td>\n",
       "      <td>2004</td>\n",
       "      <td>HONDA</td>\n",
       "      <td>TK</td>\n",
       "      <td>UNKNOWN</td>\n",
       "      <td>39.150044</td>\n",
       "      <td>-77.063089</td>\n",
       "      <td>(39.15004368, -77.06308884)</td>\n",
       "    </tr>\n",
       "    <tr>\n",
       "      <th>1</th>\n",
       "      <td>MCP1307000K</td>\n",
       "      <td>190024786</td>\n",
       "      <td>Montgomery County Police</td>\n",
       "      <td>Property Damage Crash</td>\n",
       "      <td>05/24/2019 05:00:00 PM</td>\n",
       "      <td>NaN</td>\n",
       "      <td>NaN</td>\n",
       "      <td>NaN</td>\n",
       "      <td>NaN</td>\n",
       "      <td>PARKING LOT</td>\n",
       "      <td>...</td>\n",
       "      <td>0</td>\n",
       "      <td>No</td>\n",
       "      <td>No</td>\n",
       "      <td>0</td>\n",
       "      <td>UNK</td>\n",
       "      <td>UNK</td>\n",
       "      <td>NaN</td>\n",
       "      <td>39.199047</td>\n",
       "      <td>-77.250743</td>\n",
       "      <td>(39.19904667, -77.25074333)</td>\n",
       "    </tr>\n",
       "    <tr>\n",
       "      <th>2</th>\n",
       "      <td>MCP2846008X</td>\n",
       "      <td>230034260</td>\n",
       "      <td>Montgomery County Police</td>\n",
       "      <td>Property Damage Crash</td>\n",
       "      <td>07/17/2023 10:45:00 AM</td>\n",
       "      <td>County</td>\n",
       "      <td>SELFRIDGE RD</td>\n",
       "      <td>County</td>\n",
       "      <td>RANDOLPH RD</td>\n",
       "      <td>NaN</td>\n",
       "      <td>...</td>\n",
       "      <td>35</td>\n",
       "      <td>No</td>\n",
       "      <td>No</td>\n",
       "      <td>2003</td>\n",
       "      <td>FORD</td>\n",
       "      <td>TK</td>\n",
       "      <td>NO MISUSE</td>\n",
       "      <td>39.054588</td>\n",
       "      <td>-77.085974</td>\n",
       "      <td>(39.05458848, -77.08597423)</td>\n",
       "    </tr>\n",
       "    <tr>\n",
       "      <th>3</th>\n",
       "      <td>MCP32610017</td>\n",
       "      <td>230034668</td>\n",
       "      <td>Montgomery County Police</td>\n",
       "      <td>Property Damage Crash</td>\n",
       "      <td>07/20/2023 11:40:00 PM</td>\n",
       "      <td>Maryland (State)</td>\n",
       "      <td>MUNCASTER MILL RD</td>\n",
       "      <td>County</td>\n",
       "      <td>SHADY GROVE RD</td>\n",
       "      <td>NaN</td>\n",
       "      <td>...</td>\n",
       "      <td>45</td>\n",
       "      <td>No</td>\n",
       "      <td>No</td>\n",
       "      <td>2023</td>\n",
       "      <td>TOYT</td>\n",
       "      <td>CP</td>\n",
       "      <td>NO MISUSE</td>\n",
       "      <td>39.148721</td>\n",
       "      <td>-77.147111</td>\n",
       "      <td>(39.14872076, -77.14711061)</td>\n",
       "    </tr>\n",
       "    <tr>\n",
       "      <th>4</th>\n",
       "      <td>EJ78520081</td>\n",
       "      <td>230033429</td>\n",
       "      <td>Gaithersburg Police Depar</td>\n",
       "      <td>Property Damage Crash</td>\n",
       "      <td>07/13/2023 05:40:00 PM</td>\n",
       "      <td>Municipality</td>\n",
       "      <td>PERRY PKWY</td>\n",
       "      <td>Unknown</td>\n",
       "      <td>ENT TO SHOPPING CENTER</td>\n",
       "      <td>NaN</td>\n",
       "      <td>...</td>\n",
       "      <td>25</td>\n",
       "      <td>No</td>\n",
       "      <td>No</td>\n",
       "      <td>2001</td>\n",
       "      <td>KENWORTH</td>\n",
       "      <td>TRUCK</td>\n",
       "      <td>NaN</td>\n",
       "      <td>39.149085</td>\n",
       "      <td>-77.210731</td>\n",
       "      <td>(39.14908542, -77.21073135)</td>\n",
       "    </tr>\n",
       "  </tbody>\n",
       "</table>\n",
       "<p>5 rows × 43 columns</p>\n",
       "</div>"
      ],
      "text/plain": [
       "  Report_Number Local_Case_Number                Agency_Name  \\\n",
       "0   MCP3040003N         190026050   Montgomery County Police   \n",
       "1   MCP1307000K         190024786   Montgomery County Police   \n",
       "2   MCP2846008X         230034260   Montgomery County Police   \n",
       "3   MCP32610017         230034668   Montgomery County Police   \n",
       "4    EJ78520081         230033429  Gaithersburg Police Depar   \n",
       "\n",
       "        ACRS_Report_Type         Crash_Date/Time        Route_Type  \\\n",
       "0  Property Damage Crash  05/31/2019 03:00:00 PM               NaN   \n",
       "1  Property Damage Crash  05/24/2019 05:00:00 PM               NaN   \n",
       "2  Property Damage Crash  07/17/2023 10:45:00 AM            County   \n",
       "3  Property Damage Crash  07/20/2023 11:40:00 PM  Maryland (State)   \n",
       "4  Property Damage Crash  07/13/2023 05:40:00 PM      Municipality   \n",
       "\n",
       "           Road_Name Cross-Street_Type       Cross-Street_Name  \\\n",
       "0                NaN               NaN                     NaN   \n",
       "1                NaN               NaN                     NaN   \n",
       "2       SELFRIDGE RD            County             RANDOLPH RD   \n",
       "3  MUNCASTER MILL RD            County          SHADY GROVE RD   \n",
       "4         PERRY PKWY           Unknown  ENT TO SHOPPING CENTER   \n",
       "\n",
       "             Off-Road_Description  ... Speed_Limit Driverless_Vehicle  \\\n",
       "0  PARKING LOT OF 3215 SPARTAN RD  ...          15                 No   \n",
       "1                     PARKING LOT  ...           0                 No   \n",
       "2                             NaN  ...          35                 No   \n",
       "3                             NaN  ...          45                 No   \n",
       "4                             NaN  ...          25                 No   \n",
       "\n",
       "  Parked_Vehicle Vehicle_Year Vehicle_Make Vehicle_Model Equipment_Problems  \\\n",
       "0             No         2004        HONDA            TK            UNKNOWN   \n",
       "1             No            0          UNK           UNK                NaN   \n",
       "2             No         2003         FORD            TK          NO MISUSE   \n",
       "3             No         2023         TOYT            CP          NO MISUSE   \n",
       "4             No         2001     KENWORTH         TRUCK                NaN   \n",
       "\n",
       "    Latitude  Longitude                     Location  \n",
       "0  39.150044 -77.063089  (39.15004368, -77.06308884)  \n",
       "1  39.199047 -77.250743  (39.19904667, -77.25074333)  \n",
       "2  39.054588 -77.085974  (39.05458848, -77.08597423)  \n",
       "3  39.148721 -77.147111  (39.14872076, -77.14711061)  \n",
       "4  39.149085 -77.210731  (39.14908542, -77.21073135)  \n",
       "\n",
       "[5 rows x 43 columns]"
      ]
     },
     "execution_count": 219,
     "metadata": {},
     "output_type": "execute_result"
    }
   ],
   "source": [
    "df = pd.read_csv('data/Crash_Data.csv')\n",
    "df.columns = df.columns.str.replace(' ', '_')\n",
    "df.head()\n",
    "#data = spark.read.csv('data/Crash_Data.csv', header=True, inferSchema=True);\n",
    "#data.show(5)"
   ]
  },
  {
   "cell_type": "code",
   "execution_count": 220,
   "metadata": {},
   "outputs": [
    {
     "data": {
      "text/plain": [
       "<bound method DataFrame.printSchema of DataFrame[Report_Number: string, Local_Case_Number: string, Agency_Name: string, ACRS_Report_Type: string, Crash_Date/Time: string, Route_Type: string, Road_Name: string, Cross-Street_Type: string, Cross-Street_Name: string, Off-Road_Description: string, Municipality: string, Related_Non-Motorist: string, Collision_Type: string, Weather: string, Surface_Condition: string, Light: string, Traffic_Control: string, Driver_Substance_Abuse: string, Non-Motorist_Substance_Abuse: string, Person_ID: string, Driver_At_Fault: string, Injury_Severity: string, Circumstance: string, Driver_Distracted_By: string, Drivers_License_State: string, Vehicle_ID: string, Vehicle_Damage_Extent: string, Vehicle_First_Impact_Location: string, Vehicle_Second_Impact_Location: string, Vehicle_Body_Type: string, Vehicle_Movement: string, Vehicle_Continuing_Dir: string, Vehicle_Going_Dir: string, Speed_Limit: bigint, Driverless_Vehicle: string, Parked_Vehicle: string, Vehicle_Year: bigint, Vehicle_Make: string, Vehicle_Model: string, Equipment_Problems: string, Latitude: double, Longitude: double, Location: string]>"
      ]
     },
     "execution_count": 220,
     "metadata": {},
     "output_type": "execute_result"
    }
   ],
   "source": [
    "df_spark = spark.createDataFrame(df)\n",
    "df_spark.printSchema"
   ]
  },
  {
   "cell_type": "code",
   "execution_count": 221,
   "metadata": {},
   "outputs": [
    {
     "name": "stderr",
     "output_type": "stream",
     "text": [
      "                                                                                \r"
     ]
    },
    {
     "data": {
      "text/plain": [
       "[Table(name='crashes', catalog='spark_catalog', namespace=['default'], description=None, tableType='MANAGED', isTemporary=False)]"
      ]
     },
     "execution_count": 221,
     "metadata": {},
     "output_type": "execute_result"
    }
   ],
   "source": [
    "df_spark.write.mode(\"overwrite\").saveAsTable(\"crashes\")\n",
    "spark.catalog.listTables()"
   ]
  },
  {
   "cell_type": "markdown",
   "metadata": {},
   "source": [
    "## Create Oversampled table"
   ]
  },
  {
   "cell_type": "code",
   "execution_count": 225,
   "metadata": {
    "tags": []
   },
   "outputs": [
    {
     "name": "stdout",
     "output_type": "stream",
     "text": [
      "374.9398496240602\n"
     ]
    }
   ],
   "source": [
    "fatal_count = len(df[df['ACRS_Report_Type'] == 'Fatal Crash'])\n",
    "nonfatal_count = len(df[df['ACRS_Report_Type'] != 'Fatal Crash'])\n",
    "ratio = nonfatal_count/fatal_count\n",
    "print(ratio)"
   ]
  },
  {
   "cell_type": "code",
   "execution_count": 394,
   "metadata": {
    "tags": []
   },
   "outputs": [],
   "source": [
    "fatal_records_df = df[df['ACRS_Report_Type'] == 'Fatal Crash']\n",
    "oversampled_df = fatal_records_df.sample(frac=100, random_state=1234, replace = True)\n",
    "oversampled_df = pd.concat([df,oversampled_df])\n"
   ]
  },
  {
   "cell_type": "code",
   "execution_count": 395,
   "metadata": {
    "tags": []
   },
   "outputs": [
    {
     "name": "stderr",
     "output_type": "stream",
     "text": [
      "                                                                                \r"
     ]
    },
    {
     "data": {
      "text/plain": [
       "[Table(name='crashes', catalog='spark_catalog', namespace=['default'], description=None, tableType='MANAGED', isTemporary=False),\n",
       " Table(name='oversampled_crashes', catalog='spark_catalog', namespace=['default'], description=None, tableType='MANAGED', isTemporary=False)]"
      ]
     },
     "execution_count": 395,
     "metadata": {},
     "output_type": "execute_result"
    }
   ],
   "source": [
    "spark.createDataFrame(oversampled_df).write.mode(\"overwrite\").saveAsTable(\"oversampled_crashes\")\n",
    "spark.catalog.listTables()"
   ]
  },
  {
   "cell_type": "code",
   "execution_count": 396,
   "metadata": {
    "tags": []
   },
   "outputs": [
    {
     "name": "stdout",
     "output_type": "stream",
     "text": [
      "+--------------------+--------+\n",
      "|    ACRS_Report_Type|count(1)|\n",
      "+--------------------+--------+\n",
      "|        Injury Crash|   36158|\n",
      "|Property Damage C...|   63576|\n",
      "|         Fatal Crash|   26866|\n",
      "+--------------------+--------+\n",
      "\n"
     ]
    }
   ],
   "source": [
    "spark.sql(\"SELECT ACRS_Report_Type, count(*) FROM oversampled_crashes GROUP BY ACRS_Report_Type\").show()"
   ]
  },
  {
   "cell_type": "markdown",
   "metadata": {},
   "source": [
    "## Use spark Sql to query relevant  from the raw table load into a formatted dataframe with some massaging on the columns"
   ]
  },
  {
   "cell_type": "code",
   "execution_count": 523,
   "metadata": {},
   "outputs": [
    {
     "name": "stdout",
     "output_type": "stream",
     "text": [
      "+-------------+--------+-------+-----------------+--------------+---------------+\n",
      "|Report_Number|Fatality|Weather|Surface_Condition|         Light|Substance_Abuse|\n",
      "+-------------+--------+-------+-----------------+--------------+---------------+\n",
      "|  MCP2354000F|       0|RAINING|              WET|DARK LIGHTS ON|           NONE|\n",
      "|  MCP2891002V|       0|RAINING|              WET|      DAYLIGHT|           NONE|\n",
      "|  MCP2564000B|       0|    NaN|              NaN|      DAYLIGHT|           NONE|\n",
      "|   DD5650001D|       0|  CLEAR|              DRY|      DAYLIGHT|           NONE|\n",
      "|  MCP9106000V|       0|   SNOW|              ICE|      DAYLIGHT|           NONE|\n",
      "+-------------+--------+-------+-----------------+--------------+---------------+\n",
      "only showing top 5 rows\n",
      "\n"
     ]
    }
   ],
   "source": [
    "data = spark.sql(\"SELECT Report_Number\\\n",
    "               , CASE WHEN ACRS_Report_Type = 'Fatal Crash' THEN 1 ELSE 0 END as Fatality\\\n",
    "               , Weather\\\n",
    "               , Surface_Condition\\\n",
    "               , Light\\\n",
    "               , CASE WHEN Driver_Substance_Abuse in ('UNKNOWN','N/A','NONE DETECTED') THEN 'NONE' ELSE Driver_Substance_Abuse END as Substance_Abuse\\\n",
    "               FROM oversampled_crashes\")\n",
    "data = data.dropna()\n",
    "data.show(5)"
   ]
  },
  {
   "cell_type": "code",
   "execution_count": 555,
   "metadata": {},
   "outputs": [
    {
     "data": {
      "image/png": "[encoded data removed]",
      "text/plain": [
       "<Figure size 640x480 with 1 Axes>"
      ]
     },
     "metadata": {},
     "output_type": "display_data"
    }
   ],
   "source": [
    "df2 = data.toPandas()\n",
    "values, bins, bars = plt.hist(df2['Fatality'], bins=[0,0.5,1.5])\n",
    "plt.xlabel(\"Fatal Y/N\")\n",
    "plt.ylabel(\"# of Accidents\")\n",
    "plt.xticks([0, 1])\n",
    "plt.bar_label(bars)\n",
    "plt.show()"
   ]
  },
  {
   "cell_type": "markdown",
   "metadata": {},
   "source": [
    "Note: This is a skewed dataset, most crashes are not fatal, we must be careful when evaluating models"
   ]
  },
  {
   "cell_type": "code",
   "execution_count": 556,
   "metadata": {
    "tags": []
   },
   "outputs": [],
   "source": [
    "train_data,test_data = data.randomSplit([0.75,0.25])"
   ]
  },
  {
   "cell_type": "markdown",
   "metadata": {},
   "source": [
    "## Logistic Regression"
   ]
  },
  {
   "cell_type": "code",
   "execution_count": 557,
   "metadata": {},
   "outputs": [],
   "source": [
    "# Import libraries\n",
    "from pyspark.ml.classification import LogisticRegression, LinearSVC\n",
    "from pyspark.ml.feature import VectorAssembler, StringIndexer, OneHotEncoder, StandardScaler\n",
    "from pyspark.ml import Pipeline"
   ]
  },
  {
   "cell_type": "code",
   "execution_count": 558,
   "metadata": {},
   "outputs": [],
   "source": [
    "Weather_indexer                = StringIndexer(inputCol='Weather', outputCol='Weather_index', handleInvalid='keep')\n",
    "Surface_Condition_indexer      = StringIndexer(inputCol='Surface_Condition', outputCol='Surface_Condition_index', handleInvalid='keep')\n",
    "Light_indexer                  = StringIndexer(inputCol='Light', outputCol='Light_index', handleInvalid='keep')\n",
    "Substance_Abuse_indexer        = StringIndexer(inputCol='Substance_Abuse', outputCol='Substance_Abuse_index', handleInvalid='keep')"
   ]
  },
  {
   "cell_type": "code",
   "execution_count": 559,
   "metadata": {
    "tags": []
   },
   "outputs": [],
   "source": [
    "data_encoder = OneHotEncoder(\n",
    "    inputCols=[\n",
    "        'Weather_index',\n",
    "        'Surface_Condition_index',\n",
    "        'Light_index',\n",
    "        'Substance_Abuse_index'\n",
    "    ],\n",
    "     outputCols=[\n",
    "        'Weather_vector',\n",
    "        'Surface_Condition_vector',\n",
    "        'Light_vector',\n",
    "        'Substance_Abuse_vector'\n",
    "     ],\n",
    "    handleInvalid='keep'\n",
    ")"
   ]
  },
  {
   "cell_type": "code",
   "execution_count": 560,
   "metadata": {
    "tags": []
   },
   "outputs": [],
   "source": [
    "assembler = VectorAssembler(\n",
    "    inputCols=[\n",
    "        'Weather_vector',\n",
    "        'Surface_Condition_vector',\n",
    "        'Light_vector',\n",
    "        'Substance_Abuse_vector'\n",
    "    ],\n",
    "    outputCol = \"features\"\n",
    ")"
   ]
  },
  {
   "cell_type": "code",
   "execution_count": 561,
   "metadata": {
    "tags": []
   },
   "outputs": [],
   "source": [
    "logit_model = LogisticRegression(labelCol='Fatality')"
   ]
  },
  {
   "cell_type": "code",
   "execution_count": 562,
   "metadata": {
    "tags": []
   },
   "outputs": [],
   "source": [
    "logit_pipe = Pipeline(\n",
    "    stages=[\n",
    "        Weather_indexer,\n",
    "        Surface_Condition_indexer,\n",
    "        Light_indexer, \n",
    "        Substance_Abuse_indexer, \n",
    "        data_encoder,\n",
    "        assembler,\n",
    "        logit_model\n",
    "    ]\n",
    ")"
   ]
  },
  {
   "cell_type": "code",
   "execution_count": 563,
   "metadata": {
    "tags": []
   },
   "outputs": [],
   "source": [
    "fit_model = logit_pipe.fit(train_data)\n",
    "logit_results = fit_model.transform(test_data)"
   ]
  },
  {
   "cell_type": "code",
   "execution_count": 564,
   "metadata": {
    "tags": []
   },
   "outputs": [
    {
     "name": "stdout",
     "output_type": "stream",
     "text": [
      "+--------+----------+\n",
      "|Fatality|prediction|\n",
      "+--------+----------+\n",
      "|       0|       0.0|\n",
      "|       0|       0.0|\n",
      "|       0|       0.0|\n",
      "|       0|       0.0|\n",
      "|       0|       0.0|\n",
      "|       0|       0.0|\n",
      "|       0|       0.0|\n",
      "|       0|       0.0|\n",
      "|       0|       0.0|\n",
      "|       0|       0.0|\n",
      "|       0|       0.0|\n",
      "|       0|       0.0|\n",
      "|       0|       0.0|\n",
      "|       0|       0.0|\n",
      "|       0|       0.0|\n",
      "|       0|       0.0|\n",
      "|       0|       0.0|\n",
      "|       0|       0.0|\n",
      "|       0|       0.0|\n",
      "|       0|       0.0|\n",
      "+--------+----------+\n",
      "only showing top 20 rows\n",
      "\n"
     ]
    }
   ],
   "source": [
    "logit_results.select(['Fatality','prediction']).show()"
   ]
  },
  {
   "cell_type": "markdown",
   "metadata": {},
   "source": [
    "## Evaluate Logistic Regression"
   ]
  },
  {
   "cell_type": "code",
   "execution_count": 565,
   "metadata": {
    "tags": []
   },
   "outputs": [
    {
     "name": "stdout",
     "output_type": "stream",
     "text": [
      "Precited Non Fatal: 29399\n",
      "Precited Fatal: 2239\n"
     ]
    }
   ],
   "source": [
    "nf = logit_results.filter(col(\"prediction\")==0).count()\n",
    "f = logit_results.filter(col(\"prediction\")==1).count()\n",
    "\n",
    "print(f\"Precited Non Fatal: {nf}\")\n",
    "print(f\"Precited Fatal: {f}\")"
   ]
  },
  {
   "cell_type": "code",
   "execution_count": 566,
   "metadata": {
    "tags": []
   },
   "outputs": [
    {
     "name": "stdout",
     "output_type": "stream",
     "text": [
      "Mean Absolute Error: 0.2081990012010873\n"
     ]
    }
   ],
   "source": [
    "from pyspark.ml.evaluation import RegressionEvaluator\n",
    "MAE_evaluator = RegressionEvaluator(predictionCol=\"prediction\",labelCol=\"Fatality\", metricName=\"mae\")\n",
    "mae = MAE_evaluator.evaluate(logit_results)\n",
    "print(f\"Mean Absolute Error: {mae}\")\n"
   ]
  },
  {
   "cell_type": "code",
   "execution_count": 567,
   "metadata": {
    "tags": []
   },
   "outputs": [
    {
     "name": "stdout",
     "output_type": "stream",
     "text": [
      "Area Under Curve: 0.5711250987243278\n",
      "Area Under PR Curve: 0.417648153856127\n"
     ]
    }
   ],
   "source": [
    "from pyspark.ml.evaluation import BinaryClassificationEvaluator\n",
    "\n",
    "AUC_evaluator = BinaryClassificationEvaluator(rawPredictionCol='prediction',labelCol='Fatality',metricName='areaUnderROC')\n",
    "AUC = AUC_evaluator.evaluate(logit_results)\n",
    "\n",
    "AUPR_evaluator = BinaryClassificationEvaluator(rawPredictionCol='prediction',labelCol='Fatality',metricName='areaUnderPR')\n",
    "AUPR = AUPR_evaluator.evaluate(logit_results)\n",
    "\n",
    "print(f\"Area Under Curve: {AUC}\")\n",
    "print(f\"Area Under PR Curve: {AUPR}\")"
   ]
  },
  {
   "cell_type": "code",
   "execution_count": 568,
   "metadata": {
    "tags": []
   },
   "outputs": [
    {
     "name": "stdout",
     "output_type": "stream",
     "text": [
      "0.7918009987989127\n"
     ]
    }
   ],
   "source": [
    "from pyspark.ml.evaluation import MulticlassClassificationEvaluator\n",
    "ACC_evaluator = MulticlassClassificationEvaluator(labelCol=\"Fatality\",predictionCol=\"prediction\",metricName=\"accuracy\")\n",
    "Accuracy = ACC_evaluator.evaluate(logit_results)\n",
    "print(Accuracy)"
   ]
  },
  {
   "cell_type": "code",
   "execution_count": 569,
   "metadata": {
    "tags": []
   },
   "outputs": [
    {
     "name": "stdout",
     "output_type": "stream",
     "text": [
      "[[23804   992]\n",
      " [ 5595  1247]]\n"
     ]
    }
   ],
   "source": [
    "from sklearn.metrics import confusion_matrix\n",
    "\n",
    "y_true = logit_results.select(\"Fatality\").toPandas()\n",
    " \n",
    "y_pred = logit_results.select(\"prediction\").toPandas()\n",
    " \n",
    "cnf_matrix = confusion_matrix(y_true, y_pred)\n",
    "\n",
    "print(cnf_matrix)\n",
    "\n"
   ]
  },
  {
   "cell_type": "code",
   "execution_count": 570,
   "metadata": {
    "tags": []
   },
   "outputs": [
    {
     "data": {
      "image/png": "[encoded data removed]",
      "text/plain": [
       "<Figure size 640x480 with 2 Axes>"
      ]
     },
     "metadata": {},
     "output_type": "display_data"
    }
   ],
   "source": [
    "from sklearn.metrics import ConfusionMatrixDisplay\n",
    "\n",
    " \n",
    "color = 'white'\n",
    "disp = ConfusionMatrixDisplay(confusion_matrix=cnf_matrix, display_labels = ['Non-Fatal', 'Fatal'])\n",
    "disp.plot()\n",
    "plt.show()"
   ]
  },
  {
   "cell_type": "code",
   "execution_count": 571,
   "metadata": {
    "tags": []
   },
   "outputs": [
    {
     "name": "stdout",
     "output_type": "stream",
     "text": [
      "Accuracy: 0.79\n",
      "Precision: 0.56\n",
      "Recall: 0.18\n",
      "F1 Score: 0.27\n"
     ]
    }
   ],
   "source": [
    "\n",
    "\n",
    "tn = cnf_matrix[0][0]\n",
    "fp = cnf_matrix[0][1]\n",
    "fn = cnf_matrix[1][0]\n",
    "tp = cnf_matrix[1][1]\n",
    "\n",
    "accuracy = (tp+tn)/(tp+tn+fp+fn)\n",
    "precision = tp/(tp+fp)\n",
    "recall = tp/(tp+fn)\n",
    "f1_score = 2*(precision*recall)/(precision+recall)\n",
    "\n",
    "\n",
    "\n",
    "print(f\"Accuracy: {accuracy:.2f}\")\n",
    "print(f\"Precision: {precision:.2f}\")\n",
    "print(f\"Recall: {recall:.2f}\")\n",
    "print(f\"F1 Score: {f1_score:.2f}\")\n",
    "\n"
   ]
  },
  {
   "cell_type": "markdown",
   "metadata": {},
   "source": [
    "## SVC"
   ]
  },
  {
   "cell_type": "code",
   "execution_count": 572,
   "metadata": {
    "tags": []
   },
   "outputs": [],
   "source": [
    "assembler = VectorAssembler(\n",
    "    inputCols=[\n",
    "        'Weather_index',\n",
    "        'Surface_Condition_index',\n",
    "        'Light_index',\n",
    "        'Substance_Abuse_index'\n",
    "    ],\n",
    "    outputCol = \"unscaled_features\"\n",
    ")"
   ]
  },
  {
   "cell_type": "code",
   "execution_count": 573,
   "metadata": {
    "tags": []
   },
   "outputs": [],
   "source": [
    "scaler = StandardScaler(inputCol= \"unscaled_features\", outputCol = \"features\")"
   ]
  },
  {
   "cell_type": "code",
   "execution_count": 574,
   "metadata": {
    "tags": []
   },
   "outputs": [],
   "source": [
    "svc_model = LinearSVC(labelCol='Fatality')"
   ]
  },
  {
   "cell_type": "code",
   "execution_count": 575,
   "metadata": {
    "tags": []
   },
   "outputs": [],
   "source": [
    "svc_pipe = Pipeline(\n",
    "    stages=[\n",
    "        Weather_indexer,\n",
    "        Surface_Condition_indexer,\n",
    "        Light_indexer, \n",
    "        Substance_Abuse_indexer, \n",
    "        assembler,\n",
    "        scaler,\n",
    "        svc_model\n",
    "    ]\n",
    ")"
   ]
  },
  {
   "cell_type": "code",
   "execution_count": 576,
   "metadata": {
    "tags": []
   },
   "outputs": [
    {
     "name": "stderr",
     "output_type": "stream",
     "text": [
      "23/11/08 23:57:40 ERROR OWLQN: Failure! Resetting history: breeze.optimize.NaNHistory: \n",
      "                                                                                \r"
     ]
    }
   ],
   "source": [
    "svc_fit_model = svc_pipe.fit(train_data)"
   ]
  },
  {
   "cell_type": "code",
   "execution_count": 577,
   "metadata": {
    "tags": []
   },
   "outputs": [
    {
     "name": "stdout",
     "output_type": "stream",
     "text": [
      "+--------+----------+\n",
      "|Fatality|prediction|\n",
      "+--------+----------+\n",
      "|       0|       0.0|\n",
      "|       0|       0.0|\n",
      "|       0|       0.0|\n",
      "|       0|       0.0|\n",
      "|       0|       0.0|\n",
      "|       0|       0.0|\n",
      "|       0|       0.0|\n",
      "|       0|       0.0|\n",
      "|       0|       0.0|\n",
      "|       0|       0.0|\n",
      "|       0|       0.0|\n",
      "|       0|       0.0|\n",
      "|       0|       0.0|\n",
      "|       0|       0.0|\n",
      "|       0|       0.0|\n",
      "|       0|       0.0|\n",
      "|       0|       0.0|\n",
      "|       0|       0.0|\n",
      "|       0|       0.0|\n",
      "|       0|       0.0|\n",
      "+--------+----------+\n",
      "only showing top 20 rows\n",
      "\n"
     ]
    }
   ],
   "source": [
    "svc_results = svc_fit_model.transform(test_data)\n",
    "svc_results.select(['Fatality','prediction']).show()"
   ]
  },
  {
   "cell_type": "code",
   "execution_count": 578,
   "metadata": {
    "tags": []
   },
   "outputs": [
    {
     "name": "stdout",
     "output_type": "stream",
     "text": [
      "Precited Non Fatal: 31638\n",
      "Precited Fatal: 0\n"
     ]
    }
   ],
   "source": [
    "from pyspark.sql.functions import col\n",
    "nf = svc_results.filter(col(\"prediction\")==0).count()\n",
    "f = svc_results.filter(col(\"prediction\")==1).count()\n",
    "\n",
    "print(f\"Precited Non Fatal: {nf}\")\n",
    "print(f\"Precited Fatal: {f}\")"
   ]
  },
  {
   "cell_type": "code",
   "execution_count": 579,
   "metadata": {
    "tags": []
   },
   "outputs": [
    {
     "name": "stdout",
     "output_type": "stream",
     "text": [
      "Mean Absolute Error: 0.2162589291358493\n"
     ]
    }
   ],
   "source": [
    "from pyspark.ml.evaluation import RegressionEvaluator\n",
    "MAE_evaluator = RegressionEvaluator(predictionCol=\"prediction\",labelCol=\"Fatality\", metricName=\"mae\")\n",
    "mae = MAE_evaluator.evaluate(svc_results)\n",
    "print(f\"Mean Absolute Error: {mae}\")\n"
   ]
  },
  {
   "cell_type": "code",
   "execution_count": 580,
   "metadata": {
    "tags": []
   },
   "outputs": [
    {
     "name": "stdout",
     "output_type": "stream",
     "text": [
      "Area Under Curve: 0.5\n",
      "Area Under PR Curve: 0.2162589291358493\n"
     ]
    }
   ],
   "source": [
    "from pyspark.ml.evaluation import BinaryClassificationEvaluator\n",
    "\n",
    "AUC_evaluator = BinaryClassificationEvaluator(rawPredictionCol='prediction',labelCol='Fatality',metricName='areaUnderROC')\n",
    "AUC = AUC_evaluator.evaluate(svc_results)\n",
    "\n",
    "AUPR_evaluator = BinaryClassificationEvaluator(rawPredictionCol='prediction',labelCol='Fatality',metricName='areaUnderPR')\n",
    "AUPR = AUPR_evaluator.evaluate(svc_results)\n",
    "\n",
    "print(f\"Area Under Curve: {AUC}\")\n",
    "print(f\"Area Under PR Curve: {AUPR}\")"
   ]
  },
  {
   "cell_type": "code",
   "execution_count": 581,
   "metadata": {
    "tags": []
   },
   "outputs": [
    {
     "name": "stdout",
     "output_type": "stream",
     "text": [
      "0.7837410708641507\n"
     ]
    }
   ],
   "source": [
    "from pyspark.ml.evaluation import MulticlassClassificationEvaluator\n",
    "ACC_evaluator = MulticlassClassificationEvaluator(labelCol=\"Fatality\",predictionCol=\"prediction\",metricName=\"accuracy\")\n",
    "Accuracy = ACC_evaluator.evaluate(svc_results)\n",
    "print(Accuracy)"
   ]
  },
  {
   "cell_type": "code",
   "execution_count": 582,
   "metadata": {
    "tags": []
   },
   "outputs": [
    {
     "name": "stdout",
     "output_type": "stream",
     "text": [
      "[[24796     0]\n",
      " [ 6842     0]]\n"
     ]
    }
   ],
   "source": [
    "from sklearn.metrics import confusion_matrix\n",
    "\n",
    "y_true = svc_results.select(\"Fatality\").toPandas()\n",
    " \n",
    "y_pred = svc_results.select(\"prediction\").toPandas()\n",
    " \n",
    "cnf_matrix = confusion_matrix(y_true, y_pred)\n",
    "\n",
    "print(cnf_matrix)\n",
    "\n"
   ]
  },
  {
   "cell_type": "code",
   "execution_count": 583,
   "metadata": {
    "tags": []
   },
   "outputs": [
    {
     "data": {
      "image/png": "[encoded data removed]",
      "text/plain": [
       "<Figure size 640x480 with 2 Axes>"
      ]
     },
     "metadata": {},
     "output_type": "display_data"
    }
   ],
   "source": [
    "color = 'white'\n",
    "disp = ConfusionMatrixDisplay(confusion_matrix=cnf_matrix, display_labels = ['Non-Fatal', 'Fatal'])\n",
    "disp.plot()\n",
    "plt.show()"
   ]
  },
  {
   "cell_type": "code",
   "execution_count": 584,
   "metadata": {
    "tags": []
   },
   "outputs": [
    {
     "name": "stdout",
     "output_type": "stream",
     "text": [
      "Accuracy: 0.78\n",
      "Precision: nan\n",
      "Recall: 0.00\n",
      "F1 Score: nan\n"
     ]
    },
    {
     "name": "stderr",
     "output_type": "stream",
     "text": [
      "/tmp/ipykernel_7051/3986551684.py:7: RuntimeWarning: invalid value encountered in scalar divide\n",
      "  precision = tp/(tp+fp)\n",
      "----------------------------------------\n",
      "Exception occurred during processing of request from ('127.0.0.1', 37224)\n",
      "Traceback (most recent call last):\n",
      "  File \"/home/student/miniconda3/envs/bd/lib/python3.11/socketserver.py\", line 317, in _handle_request_noblock\n",
      "    self.process_request(request, client_address)\n",
      "  File \"/home/student/miniconda3/envs/bd/lib/python3.11/socketserver.py\", line 348, in process_request\n",
      "    self.finish_request(request, client_address)\n",
      "  File \"/home/student/miniconda3/envs/bd/lib/python3.11/socketserver.py\", line 361, in finish_request\n",
      "    self.RequestHandlerClass(request, client_address, self)\n",
      "  File \"/home/student/miniconda3/envs/bd/lib/python3.11/socketserver.py\", line 755, in __init__\n",
      "    self.handle()\n",
      "  File \"/home/student/miniconda3/envs/bd/lib/python3.11/site-packages/pyspark/accumulators.py\", line 295, in handle\n",
      "    poll(accum_updates)\n",
      "  File \"/home/student/miniconda3/envs/bd/lib/python3.11/site-packages/pyspark/accumulators.py\", line 267, in poll\n",
      "    if self.rfile in r and func():\n",
      "                           ^^^^^^\n",
      "  File \"/home/student/miniconda3/envs/bd/lib/python3.11/site-packages/pyspark/accumulators.py\", line 271, in accum_updates\n",
      "    num_updates = read_int(self.rfile)\n",
      "                  ^^^^^^^^^^^^^^^^^^^^\n",
      "  File \"/home/student/miniconda3/envs/bd/lib/python3.11/site-packages/pyspark/serializers.py\", line 596, in read_int\n",
      "    raise EOFError\n",
      "EOFError\n",
      "----------------------------------------\n"
     ]
    }
   ],
   "source": [
    "\n",
    "\n",
    "tn = cnf_matrix[0][0]\n",
    "fp = cnf_matrix[0][1]\n",
    "fn = cnf_matrix[1][0]\n",
    "tp = cnf_matrix[1][1]\n",
    "\n",
    "accuracy = (tp+tn)/(tp+tn+fp+fn)\n",
    "precision = tp/(tp+fp)\n",
    "recall = tp/(tp+fn)\n",
    "f1_score = 2*(precision*recall)/(precision+recall)\n",
    "\n",
    "\n",
    "\n",
    "print(f\"Accuracy: {accuracy:.2f}\")\n",
    "print(f\"Precision: {precision:.2f}\")\n",
    "print(f\"Recall: {recall:.2f}\")\n",
    "print(f\"F1 Score: {f1_score:.2f}\")\n",
    "\n"
   ]
  },
  {
   "cell_type": "code",
   "execution_count": null,
   "metadata": {},
   "outputs": [],
   "source": []
  }
 ],
 "metadata": {
  "kernelspec": {
   "display_name": "Python 3 (ipykernel)",
   "language": "python",
   "name": "python3"
  },
  "language_info": {
   "codemirror_mode": {
    "name": "ipython",
    "version": 3
   },
   "file_extension": ".py",
   "mimetype": "text/x-python",
   "name": "python",
   "nbconvert_exporter": "python",
   "pygments_lexer": "ipython3",
   "version": "3.11.4"
  }
 },
 "nbformat": 4,
 "nbformat_minor": 4
}
